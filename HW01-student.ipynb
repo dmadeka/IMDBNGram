{
 "cells": [
  {
   "cell_type": "markdown",
   "metadata": {},
   "source": [
    "# DS-GA 1011 Fall 2017 HW 01\n",
    "# Bags of Words and Document Classification"
   ]
  },
  {
   "cell_type": "code",
   "execution_count": 1,
   "metadata": {
    "collapsed": true
   },
   "outputs": [],
   "source": [
    "import numpy as np\n",
    "import multiprocessing\n",
    "import os\n",
    "import torch\n",
    "import collections\n",
    "from collections import Counter\n",
    "from sklearn.feature_extraction import stop_words\n",
    "from torch.utils.data import Dataset\n",
    "import torch.nn as nn\n",
    "import torchvision.transforms as transforms\n",
    "from torch.autograd import Variable"
   ]
  },
  {
   "cell_type": "code",
   "execution_count": 2,
   "metadata": {
    "collapsed": true
   },
   "outputs": [],
   "source": [
    "# (some of the) hyper parameters\n",
    "learning_rate = 0.001\n",
    "vocab_size = 20000 # number words in the vocabulary base\n",
    "emb_dim = 100 # dimension for n-gram embedding\n",
    "num_epochs = 5 # number epoch to train\n",
    "batch_size = 32\n",
    "ngram_n = 2 # the n in n-gram"
   ]
  },
  {
   "cell_type": "code",
   "execution_count": 3,
   "metadata": {
    "collapsed": true
   },
   "outputs": [],
   "source": [
    "# I/O Param\n",
    "data_dir = \"./aclImdb/\"\n",
    "train_dir = os.path.join(data_dir, \"train\")\n",
    "test_dir = os.path.join(data_dir, \"test\")\n",
    "TRAIN_SIZE = 23000\n",
    "VALIDATION_SIZE = 2000\n",
    "TEST_SIZE = 25000\n",
    "PADDING_IDX = 0"
   ]
  },
  {
   "cell_type": "markdown",
   "metadata": {},
   "source": [
    "## Part I : Data I/O\n",
    "Read data from disk and parse them into desired structures"
   ]
  },
  {
   "cell_type": "code",
   "execution_count": 4,
   "metadata": {
    "collapsed": true
   },
   "outputs": [],
   "source": [
    "class IMDBDatum():\n",
    "    \"\"\"\n",
    "    Class that represents a train/validation/test datum\n",
    "    - self.raw_text\n",
    "    - self.label: 0 neg, 1 pos\n",
    "    - self.file_name: dir for this datum\n",
    "    - self.tokens: list of tokens\n",
    "    - self.token_idx: index of each token in the text\n",
    "    \"\"\"\n",
    "    def __init__(self, raw_text, label, file_name):\n",
    "        self.raw_text = raw_text\n",
    "        self.label = label\n",
    "        self.file_name = file_name\n",
    "        \n",
    "    def set_ngram(self, ngram_ctr):\n",
    "        self.ngram = ngram_ctr\n",
    "    \n",
    "    def set_token_idx(self, token_idx):\n",
    "        self.token_idx = token_idx\n",
    "        \n",
    "    def set_tokens(self, tokens):\n",
    "        self.tokens = tokens\n",
    "\n",
    "\n",
    "def preprocess_text(text):\n",
    "    \"\"\"\n",
    "    Function that cleans the string\n",
    "    \"\"\"\n",
    "    text = text.lower().replace(\"<br />\", \"\")\n",
    "    return text\n",
    "        \n",
    "    \n",
    "def read_file_as_datum(file_name, label):\n",
    "    \"\"\"\n",
    "    Function that reads a file \n",
    "    \"\"\"\n",
    "    with open(file_name, \"r\") as f:\n",
    "        content = f.read()\n",
    "        content = preprocess_text(content)\n",
    "    return IMDBDatum(raw_text=content, label=label, file_name=file_name)\n",
    "\n",
    "\n",
    "def construct_dataset(dataset_dir, dataset_size, offset=0):\n",
    "    \"\"\"\n",
    "    Function that loads a dataset\n",
    "    @param offset: skip first offset items in this dir\n",
    "    \"\"\"\n",
    "    pos_dir = os.path.join(dataset_dir, \"pos\")\n",
    "    neg_dir = os.path.join(dataset_dir, \"neg\")\n",
    "    single_label_size = int(dataset_size / 2)\n",
    "    output = []\n",
    "    all_pos = os.listdir(pos_dir)\n",
    "    all_neg = os.listdir(neg_dir)\n",
    "    for i in range(offset, offset+single_label_size):\n",
    "        output.append(read_file_as_datum(os.path.join(pos_dir, all_pos[i]), 1))\n",
    "        output.append(read_file_as_datum(os.path.join(neg_dir, all_neg[i]), 0))\n",
    "    return output\n"
   ]
  },
  {
   "cell_type": "code",
   "execution_count": 5,
   "metadata": {
    "collapsed": true
   },
   "outputs": [],
   "source": [
    "# Load Dataset - should take less than 1 min\n",
    "train_set = construct_dataset(train_dir, TRAIN_SIZE)\n",
    "validation_set = construct_dataset(train_dir, VALIDATION_SIZE, offset=int(TRAIN_SIZE/2))\n",
    "test_set = construct_dataset(test_dir, TEST_SIZE)"
   ]
  },
  {
   "cell_type": "markdown",
   "metadata": {},
   "source": [
    "## Part II: Feature Engineering - Bag of N-gram\n",
    "\n",
    "You will find the Python Counter object very helpful in this part of the assignment.\n",
    "\n",
    "Please refer to https://docs.python.org/2/library/collections.html#collections.Counter for more info."
   ]
  },
  {
   "cell_type": "code",
   "execution_count": 6,
   "metadata": {
    "collapsed": true
   },
   "outputs": [],
   "source": [
    "def extract_ngram_from_text(text, n, remove_stopwords=True):\n",
    "    \"\"\"\n",
    "    Function that retrieves all n-grams from the input string\n",
    "    @param text: raw string\n",
    "    @param n: integer that tells the model to retrieve all k-gram where k<=n\n",
    "    @return ngram_counter: a counter that maps n-gram to its frequency\n",
    "    @return tokens: a list of parsed ngrams\n",
    "    \"\"\"\n",
    "    # tokenize words - for simplicity just split by space\n",
    "    tokens = text.split(\" \")\n",
    "    if remove_stopwords:\n",
    "        tokens = [token for token in tokens if token not in stop_words.ENGLISH_STOP_WORDS]\n",
    "        \n",
    "    all_ngrams = []\n",
    "    all_ngrams.append(tokens)\n",
    "    \n",
    "    for i in np.arange(2, n+1):\n",
    "        ngram = list(zip(*[tokens[j:] for j in range(i)]))\n",
    "        all_ngrams.append(ngram)\n",
    "    \n",
    "    all_ngrams = [item for sublist in all_ngrams for item in sublist]\n",
    "    ngram_counter = Counter()\n",
    "    \n",
    "    for gram in all_ngrams:\n",
    "        ngram_counter[gram] += 1\n",
    "\n",
    "    return ngram_counter, all_ngrams\n",
    "\n",
    "\n",
    "def construct_ngram_indexer(ngram_counter_list, topk):\n",
    "    \"\"\"\n",
    "    Function that selects the most common topk ngrams\n",
    "    @param ngram_counter_list: list of counters\n",
    "    @param topk, int: # of \n",
    "    @return ngram2idx: a dictionary that maps ngram to an unique index\n",
    "    \"\"\"\n",
    "    # TODO: fill in your code here\n",
    "    # find the top k ngram\n",
    "    # maps the ngram to an unique index\n",
    "        \n",
    "    d = []\n",
    "    ngram_indexer = {}\n",
    "    idx = np.arange(2, topk+2)\n",
    "    \n",
    "    ngram_counter = Counter()\n",
    "    for n in ngram_counter_list:\n",
    "        ngram_counter.update(n)\n",
    "\n",
    "    top = ngram_counter.most_common(topk)\n",
    "    for i, key in zip(np.arange(topk), top):\n",
    "        ngram_indexer[key[0]] = idx[i]\n",
    "    return ngram_indexer\n",
    "\n",
    "\n",
    "def token_to_index(tokens, ngram_indexer):\n",
    "    \"\"\"\n",
    "    Function that transform a list of tokens to a list of token index.\n",
    "    @param tokens: list of ngram\n",
    "    @param ngram_indexer: a dictionary that maps ngram to an unique index\n",
    "    \"\"\"\n",
    "    # TODO: replace with your code\n",
    "    # Please DO NOT assign any ngram to index 0 which is reserved for PAD token\n",
    "    index_list = []\n",
    "    \n",
    "    for token in tokens:\n",
    "        if token in ngram_indexer:\n",
    "            index_list.append(ngram_indexer[token])\n",
    "        else:\n",
    "            index_list.append(1)\n",
    "    return index_list\n",
    "\n",
    "\n",
    "def process_text_dataset(dataset, n, topk=None, ngram_indexer=None):\n",
    "    \"\"\"\n",
    "    Top level function that encodes each datum into a list of ngram indices\n",
    "    @param dataset: list of IMDBDatum\n",
    "    @param n: n in \"n-gram\"\n",
    "    @param topk: #\n",
    "    @param ngram_indexer: a dictionary that maps ngram to an unique index\n",
    "    \"\"\"\n",
    "    # extract n-gram\n",
    "    for i in range(len(dataset)):\n",
    "        text_datum = dataset[i].raw_text\n",
    "        ngrams, tokens = extract_ngram_from_text(text_datum, n)\n",
    "        dataset[i].set_ngram(ngrams)\n",
    "        dataset[i].set_tokens(tokens)\n",
    "    # select top k ngram\n",
    "    if ngram_indexer is None:\n",
    "        ngram_indexer = construct_ngram_indexer([datum.ngram for datum in dataset], topk)\n",
    "    # vectorize each datum\n",
    "    for i in range(len(dataset)):\n",
    "        dataset[i].set_token_idx(token_to_index(dataset[i].tokens, ngram_indexer))  \n",
    "    return dataset, ngram_indexer"
   ]
  },
  {
   "cell_type": "code",
   "execution_count": 7,
   "metadata": {
    "collapsed": true
   },
   "outputs": [],
   "source": [
    "dat = train_set[0].raw_text\n",
    "tokens = dat.split(\" \")\n",
    "tokens = [token for token in tokens if token not in stop_words.ENGLISH_STOP_WORDS]\n",
    "\n",
    "dat2 = train_set[1].raw_text\n",
    "tokens2 = dat2.split(\" \")\n",
    "tokens2 = [token for token in tokens2 if token not in stop_words.ENGLISH_STOP_WORDS]"
   ]
  },
  {
   "cell_type": "code",
   "execution_count": 8,
   "metadata": {
    "collapsed": true
   },
   "outputs": [],
   "source": [
    "a, b = extract_ngram_from_text(dat, 2)\n",
    "a2, b2 = extract_ngram_from_text(dat2, 2)"
   ]
  },
  {
   "cell_type": "code",
   "execution_count": 9,
   "metadata": {
    "collapsed": true
   },
   "outputs": [],
   "source": [
    "c = construct_ngram_indexer([a, a2], 4)"
   ]
  },
  {
   "cell_type": "code",
   "execution_count": 10,
   "metadata": {
    "collapsed": true,
    "scrolled": true
   },
   "outputs": [],
   "source": [
    "d = token_to_index(tokens, c)"
   ]
  },
  {
   "cell_type": "code",
   "execution_count": 11,
   "metadata": {
    "scrolled": true
   },
   "outputs": [],
   "source": [
    "train_data, train_ngram_indexer = process_text_dataset(train_set, ngram_n, vocab_size)"
   ]
  },
  {
   "cell_type": "code",
   "execution_count": 12,
   "metadata": {
    "collapsed": true
   },
   "outputs": [],
   "source": [
    "validation_data, _ = process_text_dataset(validation_set, ngram_n, ngram_indexer=train_ngram_indexer)"
   ]
  },
  {
   "cell_type": "code",
   "execution_count": 13,
   "metadata": {
    "collapsed": true,
    "scrolled": true
   },
   "outputs": [],
   "source": [
    "test_data, _ = process_text_dataset(test_set, ngram_n, ngram_indexer=train_ngram_indexer)"
   ]
  },
  {
   "cell_type": "markdown",
   "metadata": {},
   "source": [
    "## Part III: Construct Input Pipeline for PyTorch"
   ]
  },
  {
   "cell_type": "code",
   "execution_count": 14,
   "metadata": {
    "collapsed": true
   },
   "outputs": [],
   "source": [
    "class IMDBDataset(Dataset):\n",
    "    \"\"\"\n",
    "    Class that represents a train/validation/test dataset that's readable for PyTorch\n",
    "    Note that this class inherits torch.utils.data.Dataset\n",
    "    \"\"\"\n",
    "    \n",
    "    def __init__(self, data_list):\n",
    "        \"\"\"\n",
    "        @param data_list: list of IMDBDatum\n",
    "        \"\"\"\n",
    "        self.data_list = data_list\n",
    "        \n",
    "    def __len__(self):\n",
    "        return len(self.data_list)\n",
    "        \n",
    "    def __getitem__(self, key):\n",
    "        \"\"\"\n",
    "        Triggered when you call dataset[i]\n",
    "        \"\"\"\n",
    "        token_idx, label = self.data_list[key].token_idx, self.data_list[key].label\n",
    "        return (token_idx, len(token_idx)), label\n",
    "    \n",
    "\n",
    "def imdb_collate_func(batch):\n",
    "    \"\"\"\n",
    "    Customized function for DataLoader that dynamically pads the batch so that all \n",
    "    data have the same length\n",
    "    \"\"\"\n",
    "    data_list = []\n",
    "    label_list = []\n",
    "    length_list = []\n",
    "    for datum in batch:\n",
    "        label_list.append(datum[1])\n",
    "        length_list.append(datum[0][1])\n",
    "    max_length = np.max(length_list)\n",
    "    # padding\n",
    "    for datum in batch:\n",
    "        padded_vec = np.pad(np.array(datum[0][0]), \n",
    "                                pad_width=((0,max_length-datum[0][1])), \n",
    "                                mode=\"constant\", constant_values=0)\n",
    "        data_list.append(padded_vec)\n",
    "    return [torch.from_numpy(np.array(data_list)), torch.LongTensor(length_list), torch.LongTensor(label_list)]\n",
    "    \n",
    "\n",
    "# consturct datasets\n",
    "imdb_train = IMDBDataset(train_data)\n",
    "imdb_validation = IMDBDataset(validation_data)\n",
    "imdb_test = IMDBDataset(test_data)    \n",
    "    \n",
    "# construct data loader\n",
    "train_loader = torch.utils.data.DataLoader(dataset=imdb_train, \n",
    "                                           batch_size=batch_size,\n",
    "                                           collate_fn=imdb_collate_func,\n",
    "                                           shuffle=True)\n",
    "validation_loader = torch.utils.data.DataLoader(dataset=imdb_validation, \n",
    "                                           batch_size=batch_size, \n",
    "                                           collate_fn=imdb_collate_func,\n",
    "                                           shuffle=False)\n",
    "test_loader = torch.utils.data.DataLoader(dataset=imdb_test, \n",
    "                                           batch_size=batch_size,\n",
    "                                           collate_fn=imdb_collate_func,\n",
    "                                           shuffle=False)"
   ]
  },
  {
   "cell_type": "code",
   "execution_count": 15,
   "metadata": {},
   "outputs": [
    {
     "name": "stdout",
     "output_type": "stream",
     "text": [
      "This is an training sample: ([1, 160, 1053, 1089, 2020, 11, 9731, 292, 547, 1, 7830, 64, 5717, 8921, 293, 104, 1, 1, 2379, 2421, 618, 1, 1, 2452, 1, 8155, 1616, 102, 1427, 1, 1, 1, 5362, 2816, 8320, 404, 9732, 74, 273, 1416, 4537, 534, 4379, 2870, 1098, 1, 1, 1, 8321, 238, 5813, 1, 39, 13320, 1, 1, 3122, 1, 8321, 334, 1816, 555, 16, 1, 160, 89, 1, 2638, 1, 1, 1, 1, 1, 1, 1, 1, 1, 1, 1, 19298, 1, 1, 1, 1, 1, 1, 1, 1, 1, 1, 1, 1, 1, 1, 1, 1, 1, 1, 1, 1, 1, 1, 1, 1, 1, 1, 1, 1, 1, 1, 1, 1, 1, 1, 1, 1, 1, 1, 1, 1, 1, 1, 1, 1, 1, 1, 1, 1, 1, 1, 1, 1, 1, 1, 1, 1, 1], 137)\n",
      "This is a label: 1\n"
     ]
    }
   ],
   "source": [
    "print(\"This is an training sample: {0}\".format(imdb_train[0][0]))\n",
    "print(\"This is a label: {0}\".format(imdb_train[0][1]))"
   ]
  },
  {
   "cell_type": "markdown",
   "metadata": {},
   "source": [
    "## Part IV: Define Model\n",
    "\n",
    "Please refers to https://arxiv.org/abs/1607.01759 for Fast Text model (Joulin et al.)"
   ]
  },
  {
   "cell_type": "code",
   "execution_count": 38,
   "metadata": {
    "collapsed": true
   },
   "outputs": [],
   "source": [
    "class FastText(nn.Module):\n",
    "    \"\"\"\n",
    "    FastText model\n",
    "    \"\"\"\n",
    "    def __init__(self, vocab_size, emb_dim):\n",
    "        \"\"\"\n",
    "        @param vocab_size: size of the vocabulary. \n",
    "        @param emb_dim: size of the word embedding\n",
    "        \"\"\"\n",
    "        super(FastText, self).__init__()\n",
    "        # TODO: replace with your code\n",
    "        # Note that the # of inputs dimension for embedding shall be vocab_size+1, why?\n",
    "        # In the embedding, you need to set the padding_dx argument.\n",
    "        # Please see http://pytorch.org/docs/master/nn.html\n",
    "        \n",
    "        self.embed = nn.Embedding(vocab_size+2, emb_dim, padding_idx=0)\n",
    "        self.dummy_layer = nn.Linear(emb_dim,1)\n",
    "        \n",
    "    \n",
    "    def forward(self, data, length):\n",
    "        \"\"\"\n",
    "        @param data: matrix of size (batch_size, max_sentence_length). Each row in data represents a \n",
    "            review that is represented using n-gram index. Note that they are padded to have same length.\n",
    "        @param length: an int tensor of size (batch_size), which represents the non-trivial (excludes padding)\n",
    "            length of each sentences in the data.\n",
    "        \"\"\"\n",
    "        # TODO: replace with your code\n",
    "        # Note that instead of doing tensorwise mean, you need to calculate the sum and divide by the sentence length\n",
    "        # in the length tensor.\n",
    "        # The output of this function should be a Tensor of dimension (batch_size). Each of the dimension contains\n",
    "        # a float in the range [0,1] that denotes the probability that the sample is positive (1).\n",
    "        self.out = self.embed(data)\n",
    "        self.out = torch.sum(self.out, dim=1) / length.unsqueeze(1).float()\n",
    "        self.out = self.dummy_layer(self.out.float())\n",
    "        return nn.functional.sigmoid(self.out.view(-1))\n",
    "\n",
    "model = FastText(vocab_size, emb_dim)"
   ]
  },
  {
   "cell_type": "markdown",
   "metadata": {},
   "source": [
    "## Part V: Define Loss Function and Optmizer"
   ]
  },
  {
   "cell_type": "code",
   "execution_count": 39,
   "metadata": {
    "collapsed": true
   },
   "outputs": [],
   "source": [
    "# Loss and Optimizer\n",
    "criterion = nn.BCELoss()  \n",
    "optimizer = torch.optim.Adam(model.parameters(), lr=learning_rate) "
   ]
  },
  {
   "cell_type": "markdown",
   "metadata": {},
   "source": [
    "## Part VI: Train and Test the Model"
   ]
  },
  {
   "cell_type": "code",
   "execution_count": 40,
   "metadata": {},
   "outputs": [
    {
     "name": "stdout",
     "output_type": "stream",
     "text": [
      "Epoch: [1/5], Step: [128/718], Loss: 0.6859496235847473, Train Acc: 66.24347826086957, Validation Acc:65.95\n",
      "Epoch: [1/5], Step: [256/718], Loss: 0.6824873685836792, Train Acc: 73.17391304347827, Validation Acc:70.05\n",
      "Epoch: [1/5], Step: [384/718], Loss: 0.672297477722168, Train Acc: 59.947826086956525, Validation Acc:57.75\n",
      "Epoch: [1/5], Step: [512/718], Loss: 0.6432124376296997, Train Acc: 76.1304347826087, Validation Acc:72.35\n",
      "Epoch: [1/5], Step: [640/718], Loss: 0.6155011057853699, Train Acc: 77.01304347826087, Validation Acc:74.45\n",
      "Epoch: [2/5], Step: [128/718], Loss: 0.5542322993278503, Train Acc: 83.80869565217391, Validation Acc:80.35\n",
      "Epoch: [2/5], Step: [256/718], Loss: 0.49113184213638306, Train Acc: 84.20869565217392, Validation Acc:80.3\n",
      "Epoch: [2/5], Step: [384/718], Loss: 0.577803909778595, Train Acc: 85.6608695652174, Validation Acc:81.95\n",
      "Epoch: [2/5], Step: [512/718], Loss: 0.4240523874759674, Train Acc: 86.39565217391305, Validation Acc:82.85\n",
      "Epoch: [2/5], Step: [640/718], Loss: 0.5202541351318359, Train Acc: 87.00869565217391, Validation Acc:83.2\n",
      "Epoch: [3/5], Step: [128/718], Loss: 0.30790528655052185, Train Acc: 87.75652173913043, Validation Acc:84.25\n",
      "Epoch: [3/5], Step: [256/718], Loss: 0.3881097733974457, Train Acc: 88.4, Validation Acc:84.3\n",
      "Epoch: [3/5], Step: [384/718], Loss: 0.4397672116756439, Train Acc: 88.17391304347827, Validation Acc:85.15\n",
      "Epoch: [3/5], Step: [512/718], Loss: 0.24728094041347504, Train Acc: 89.05652173913043, Validation Acc:85.5\n",
      "Epoch: [3/5], Step: [640/718], Loss: 0.2909371554851532, Train Acc: 89.45217391304348, Validation Acc:85.7\n",
      "Epoch: [4/5], Step: [128/718], Loss: 0.29355761408805847, Train Acc: 89.90434782608696, Validation Acc:86.0\n",
      "Epoch: [4/5], Step: [256/718], Loss: 0.2082718014717102, Train Acc: 90.19565217391305, Validation Acc:85.9\n",
      "Epoch: [4/5], Step: [384/718], Loss: 0.3176492154598236, Train Acc: 90.6304347826087, Validation Acc:86.8\n",
      "Epoch: [4/5], Step: [512/718], Loss: 0.2239828109741211, Train Acc: 90.98260869565217, Validation Acc:86.9\n",
      "Epoch: [4/5], Step: [640/718], Loss: 0.27010974287986755, Train Acc: 91.20869565217392, Validation Acc:87.2\n",
      "Epoch: [5/5], Step: [128/718], Loss: 0.1650058776140213, Train Acc: 91.57391304347826, Validation Acc:87.35\n",
      "Epoch: [5/5], Step: [256/718], Loss: 0.23123477399349213, Train Acc: 91.93478260869566, Validation Acc:87.3\n",
      "Epoch: [5/5], Step: [384/718], Loss: 0.3237813711166382, Train Acc: 92.04782608695652, Validation Acc:87.4\n",
      "Epoch: [5/5], Step: [512/718], Loss: 0.22086505591869354, Train Acc: 92.31304347826087, Validation Acc:87.75\n",
      "Epoch: [5/5], Step: [640/718], Loss: 0.1598324477672577, Train Acc: 92.4608695652174, Validation Acc:87.65\n"
     ]
    }
   ],
   "source": [
    "def test_model(loader, model):\n",
    "    \"\"\"\n",
    "    Help function that tests the model's performance on a dataset\n",
    "    @param: loader - data loader for the dataset to test against\n",
    "    \"\"\"\n",
    "    correct = 0\n",
    "    total = 0\n",
    "    model.eval()\n",
    "    for data, lengths, labels in loader:\n",
    "        data_batch, length_batch, label_batch = Variable(data), Variable(lengths), Variable(labels)\n",
    "        outputs = model(data_batch, length_batch)\n",
    "        predicted = (outputs.data > 0.5).long().view(-1)\n",
    "        total += labels.size(0)\n",
    "        correct += (predicted == labels).sum()\n",
    "    model.train()\n",
    "    return (100 * correct / total)\n",
    "\n",
    "\n",
    "def earily_stop(val_acc_history, t=2, required_progress=0.01):\n",
    "    \"\"\"\n",
    "    Stop the training if there is no non-trivial progress in k steps\n",
    "    @param val_acc_history: a list contains all the historical validation acc\n",
    "    @param required_progress: the next acc should be higher than the previous by \n",
    "        at least required_progress amount to be non-trivial\n",
    "    @param t: number of training steps \n",
    "    @return: a boolean indicates if the model should earily stop\n",
    "    \"\"\"\n",
    "    # TODO: add your code here\n",
    "    return False\n",
    "\n",
    "\n",
    "\n",
    "# Training the Model\n",
    "validation_acc_history = []\n",
    "stop_training = False\n",
    "for epoch in range(num_epochs):\n",
    "    for i, (data, lengths, labels) in enumerate(train_loader):\n",
    "        data_batch, length_batch, label_batch = Variable(data), Variable(lengths), Variable(labels)\n",
    "        optimizer.zero_grad()\n",
    "        outputs = model(data_batch, length_batch)\n",
    "        loss = criterion(outputs, label_batch.float())\n",
    "        loss.backward()\n",
    "        optimizer.step()\n",
    "        # report performance\n",
    "        if (i+1) % (batch_size*4) == 0:\n",
    "            train_acc = test_model(train_loader, model)\n",
    "            val_acc = test_model(validation_loader, model)\n",
    "            print('Epoch: [{0}/{1}], Step: [{2}/{3}], Loss: {4}, Train Acc: {5}, Validation Acc:{6}'.format( \n",
    "                   epoch+1, num_epochs, i+1, len(imdb_train)//batch_size, loss.data[0], \n",
    "                    train_acc, val_acc))\n",
    "            validation_acc_history.append(val_acc)\n",
    "            # check if we need to earily stop the model\n",
    "            stop_training = earily_stop(validation_acc_history)\n",
    "            if stop_training:\n",
    "                print(\"earily stop triggered\")\n",
    "                break\n",
    "    # because of the the nested loop\n",
    "    if stop_training:\n",
    "        break"
   ]
  },
  {
   "cell_type": "code",
   "execution_count": 41,
   "metadata": {},
   "outputs": [
    {
     "name": "stdout",
     "output_type": "stream",
     "text": [
      "Accuracy of the model on the test set: 86 %\n"
     ]
    }
   ],
   "source": [
    "# Test the Model\n",
    "print('Accuracy of the model on the test set: %d %%' % test_model(test_loader, model))\n",
    "\n",
    "# Save the Model\n",
    "#torch.save(net.state_dict(), 'model.pkl')"
   ]
  },
  {
   "cell_type": "markdown",
   "metadata": {},
   "source": [
    "## Studying Embeddings"
   ]
  },
  {
   "cell_type": "code",
   "execution_count": null,
   "metadata": {
    "collapsed": true
   },
   "outputs": [],
   "source": [
    "# error analysis"
   ]
  },
  {
   "cell_type": "markdown",
   "metadata": {},
   "source": [
    "## Part VIII: Parameter Tunning"
   ]
  },
  {
   "cell_type": "code",
   "execution_count": null,
   "metadata": {
    "collapsed": true
   },
   "outputs": [],
   "source": [
    "# param tuning"
   ]
  },
  {
   "cell_type": "markdown",
   "metadata": {},
   "source": [
    "## Reference\n",
    "\n",
    "Joulin, A., Grave, E., Bojanowski, P., & Mikolov, T. (2016). Bag of tricks for efficient text classification. arXiv preprint arXiv:1607.01759."
   ]
  },
  {
   "cell_type": "code",
   "execution_count": null,
   "metadata": {
    "collapsed": true
   },
   "outputs": [],
   "source": []
  }
 ],
 "metadata": {
  "kernelspec": {
   "display_name": "Python 3",
   "language": "python",
   "name": "python3"
  },
  "language_info": {
   "codemirror_mode": {
    "name": "ipython",
    "version": 3
   },
   "file_extension": ".py",
   "mimetype": "text/x-python",
   "name": "python",
   "nbconvert_exporter": "python",
   "pygments_lexer": "ipython3",
   "version": "3.6.1"
  }
 },
 "nbformat": 4,
 "nbformat_minor": 2
}
